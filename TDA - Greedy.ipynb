{
 "cells": [
  {
   "cell_type": "code",
   "execution_count": 1,
   "metadata": {},
   "outputs": [
    {
     "data": {
      "text/html": [
       "\n",
       "<script>\n",
       "  function $$(id) {\n",
       "    return Array.prototype.slice.call($(id));\n",
       "  }\n",
       "\n",
       "  function code_toggle() {\n",
       "    $$('div.input').forEach(input => {\n",
       "        input.style.display = code_shown ? 'none' : 'flex'\n",
       "    })\n",
       "\n",
       "    $('#toggleButton').val(code_shown ? 'Show Code' : 'Hide Code')\n",
       "    code_shown = !code_shown\n",
       "  }\n",
       "\n",
       "  $( document ).ready(function(){\n",
       "    code_shown=false;\n",
       "    $('div.input').hide()\n",
       "  });\n",
       "</script>\n",
       "<form action=\"javascript:code_toggle()\"><input type=\"submit\" id=\"toggleButton\" value=\"Show Code\"></form>"
      ],
      "text/plain": [
       "<IPython.core.display.HTML object>"
      ]
     },
     "metadata": {},
     "output_type": "display_data"
    }
   ],
   "source": [
    "%%HTML\n",
    "\n",
    "<script>\n",
    "  function $$(id) {\n",
    "    return Array.prototype.slice.call($(id));\n",
    "  }\n",
    "\n",
    "  function code_toggle() {\n",
    "    $$('div.input').forEach(input => {\n",
    "        input.style.display = code_shown ? 'none' : 'flex'\n",
    "    })\n",
    "\n",
    "    $('#toggleButton').val(code_shown ? 'Show Code' : 'Hide Code')\n",
    "    code_shown = !code_shown\n",
    "  }\n",
    "\n",
    "  $( document ).ready(function(){\n",
    "    code_shown=false;\n",
    "    $('div.input').hide()\n",
    "  });\n",
    "</script>\n",
    "<form action=\"javascript:code_toggle()\"><input type=\"submit\" id=\"toggleButton\" value=\"Show Code\"></form>"
   ]
  },
  {
   "cell_type": "markdown",
   "metadata": {},
   "source": [
    "# Teoría de Algoritmos I - Greedy"
   ]
  },
  {
   "cell_type": "markdown",
   "metadata": {},
   "source": [
    "## Tardos 4"
   ]
  },
  {
   "cell_type": "markdown",
   "metadata": {},
   "source": [
    "### Exercise 1\n",
    "\n",
    "Decide whether you think the following statement is true or false. If it is true, give a short explanation. If it is false, give a counterexample.\n",
    "\n",
    "> Let G be an arbitrary connected, undirected graph with a distinct cost c(e) on every edge e. Suppose e' is the cheapest edge in G; that is, c(e') < c(e) for every edge e != e∗. Then there is a minimum spanning tree T of G that contains the edge e'.\n",
    "\n",
    "#### Solution\n",
    "\n",
    "True. For example, if we use Kruskal the first edge will be e'."
   ]
  },
  {
   "cell_type": "markdown",
   "metadata": {},
   "source": [
    "### Exercise 2\n",
    "\n",
    "For each of the following two statements, decide whether it is true or false. If it is true, give a short explanation. If it is false, give a counterexample.\n",
    "\n",
    "> (a) Suppose we are given an instance of the Minimum Spanning Tree Problem on a graph G, with edge costs that are all positive and distinct. Let T be a minimum spanning tree for this instance. Now suppose we replace each edge cost c_e by its square, c_e^2, thereby creating a new instance of the problem with the same graph but different costs.\n",
    "True or false? T must still be a minimum spanning tree for this new instance.\n",
    "\n",
    "> (b) Suppose we are given an instance of the Shortest s-t Path Problem on a directed graph G. We assume that all edge costs are positive and distinct. Let P be a minimum-cost s-t path for this instance. Now suppose we replace each edge cost c_e by its square, c_e^2, thereby creating a new instance of the problem with the same graph but different costs.\n",
    "True or false? P must still be a minimum-cost s-t path for this new instance.\n",
    "\n",
    "#### Solution\n",
    "\n",
    "**(a)** \n",
    "True. The relative order between the edges is the same.\n",
    "\n",
    "**(b)** \n",
    "False. \n",
    "\n"
   ]
  },
  {
   "cell_type": "code",
   "execution_count": 10,
   "metadata": {
    "tags": [
     "remove_input"
    ]
   },
   "outputs": [
    {
     "data": {
      "image/png": "[encoded data removed]",
      "text/plain": [
       "<matplotlib.figure.Figure at 0x114a6e668>"
      ]
     },
     "metadata": {},
     "output_type": "display_data"
    }
   ],
   "source": [
    "from matplotlib import pyplot as plt\n",
    "import numpy as np\n",
    "plt.figure(figsize=(8,8))\n",
    "\n",
    "x = np.linspace(start=0, stop=2, num=100)\n",
    "circle = [(4 - x**2)**0.5 for x in x]\n",
    "line = [2 - x for x in x]\n",
    "plt.fill(np.append(x,[0]), circle+[0])\n",
    "plt.fill(np.append(x,[2]), line+[2], alpha = 0.3)\n",
    "plt.fill(x, circle, edgecolor='black', fill=False, ls='--', lw=1, hatch='//')\n",
    "plt.axis('off')\n",
    "plt.show()"
   ]
  },
  {
   "cell_type": "markdown",
   "metadata": {},
   "source": [
    "### Exercise 3\n",
    "\n",
    "You are consulting for a trucking company that does a large amount of business shipping packages between New York and Boston. The volume is high enough that they have to send a number of trucks each day between the two locations. Trucks have a fixed limit W on the maximum amount of weight they are allowed to carry. Boxes arrive at the New York station one by one, and each package i has a weight wi. The trucking station is quite small, so at most one truck can be at the station at any time. Company policy requires that boxes are shipped in the order they arrive; otherwise, a customer might get upset upon seeing a box that arrived after his make it to Boston faster. At the moment, the company is using a simple greedy algorithm for packing: they pack boxes in the order they arrive, and whenever the next box does not fit, they send the truck on its way.\n",
    "\n",
    "But they wonder if they might be using too many trucks, and they want your opinion on whether the situation can be improved. Here is how they are thinking. Maybe one could decrease the number of trucks needed by sometimes sending off a truck that was less full, and in this way allow the next few trucks to be better packed.\n",
    "\n",
    "Prove that, for a given set of boxes with specified weights, the greedy algorithm currently in use actually minimizes the number of trucks that are needed. Your proof should follow the type of analysis we used for the Interval Scheduling Problem: it should establish the optimality of this greedy packing algorithm by identifying a measure under which it “stays ahead” of all other solutions.\n",
    "\n",
    "#### Solution\n",
    "\n",
    "Si movemos un paquete de un camión al siguiente, pueden ocurrir dos cosas:\n",
    "\n",
    "1) Que el paquete pueda entrar en el siguiente camión, en cuyo caso se disminuirá la cantidad de camiones.\n",
    "\n",
    "2) Que el paquete no pueda entrar en el sigueiente camión, en cuyo caso se deberá mover el último paquete de este camión al siguiente (donde nuevamente podrán darse los casos 1) o 2)).\n",
    "\n",
    "De esta forma, un algoritmo distinto del algoritmo greedy usará la misma cantidad de camiones o más que el greedy."
   ]
  },
  {
   "cell_type": "markdown",
   "metadata": {},
   "source": [
    "### Exercise 4\n",
    "\n",
    "Some of your friends have gotten in to the burgeoning field of time-series data mining, in which one looks for patterns in sequences of events that occur over time. Purchases at stock exchanges—what’s being bought— are one source of data with a natural ordering in time. Given a long sequence S of such events, your friends want an efficient way to detect certain “patterns” in them—for example, they may want to know if the four events\n",
    "\n",
    "> buy Yahoo, buy eBay, buy Yahoo, buy Oracle\n",
    "\n",
    "occur in this sequence S, in order but not necessarily consecutively.\n",
    "They begin with a collection of possible events (e.g., the possible transactions) and a sequence S of n of these events. A given event may occur multiple times in S (e.g., Yahoo stock may be bought many times in a single sequence S). We will say that a sequence S′ is a subsequence of S if there is a way to delete certain of the events from S so that the remaining events, in order, are equal to the sequence S′. So, for example, the sequence of four events above is a subsequence of the sequence\n",
    "\n",
    "> buy Amazon, buy Yahoo, buy eBay, buy Yahoo, buy Yahoo,  \n",
    " buy Oracle\n",
    "\n",
    "Their goal is to be able to dream up short sequences and quickly detect whether they are subsequences of S. So this is the problem they pose to you: Give an algorithm that takes two sequences of events—S′ of length m and S of length n, each possibly containing an event more than once—and decides in time O(m + n) whether S′ is a subsequence of S.\n",
    "\n",
    "#### Solution"
   ]
  },
  {
   "cell_type": "code",
   "execution_count": 167,
   "metadata": {},
   "outputs": [
    {
     "name": "stdout",
     "output_type": "stream",
     "text": [
      "True\n"
     ]
    }
   ],
   "source": [
    "def is_subsequence(S, s):\n",
    "    i, j = 0, 0\n",
    "    while i < len(s) and j < len(S):\n",
    "        i += S[j] == s[i]\n",
    "        j += 1\n",
    "    return i >= len(s)\n",
    "\n",
    "print(is_subsequence([1,2,1,3,1,2], [1,3,1,2]))"
   ]
  },
  {
   "cell_type": "markdown",
   "metadata": {},
   "source": [
    "### Exercise 5\n",
    "\n",
    "Let’s consider a long, quiet country road with houses scattered very sparsely along it. (We can picture the road as a long line segment, with an eastern endpoint and a western endpoint.) Further, let’s suppose that despite the bucolic setting, the residents of all these houses are avid cell phone users. You want to place cell phone base stations at certain points along the road, so that every house is within four miles of one of the base stations.\n",
    "\n",
    "Give an efficient algorithm that achieves this goal, using as few base stations as possible.\n",
    "\n",
    "#### Solution"
   ]
  },
  {
   "cell_type": "code",
   "execution_count": 172,
   "metadata": {},
   "outputs": [
    {
     "data": {
      "text/plain": [
       "[5.5, 14, 24]"
      ]
     },
     "execution_count": 172,
     "metadata": {},
     "output_type": "execute_result"
    }
   ],
   "source": [
    "def stations(houses):\n",
    "    last_station = -4\n",
    "    stations = []\n",
    "    for position in houses:\n",
    "        if not last_station - 4 < position < last_station + 4:\n",
    "            last_station = position + 4\n",
    "            stations.append(last_station)\n",
    "    return stations\n",
    "\n",
    "\n",
    "houses = [1.5, 2, 4, 5, 9, 10, 10.5, 15, 20 ]\n",
    "stations(houses)"
   ]
  },
  {
   "cell_type": "markdown",
   "metadata": {},
   "source": [
    "### Exercise 6\n",
    "\n",
    "Your friend is working as a camp counselor, and he is in charge of organizing activities for a set of junior-high-school-age campers. One of his plans is the following mini-triathalon exercise: each contestant must swim 20 laps of a pool, then bike 10 miles, then run 3 miles. The plan is to send the contestants out in a staggered fashion, via the following rule: the contestants must use the pool one at a time. In other words, first one contestant swims the 20 laps, gets out, and starts biking. As soon as this first person is out of the pool, a second contestant begins swimming the 20 laps; as soon as he or she is out and starts biking, a third contestant begins swimming . . . and so on.)\n",
    "\n",
    "Each contestant has a projected swimming time (the expected time it will take him or her to complete the 20 laps), a projected biking time (the expected time it will take him or her to complete the 10 miles of bicycling), and a projected running time (the time it will take him or her to complete the 3 miles of running). Your friend wants to decide on a schedule for the triathalon: an order in which to sequence the starts of the contestants. Let’s say that the completion time of a schedule is the earliest time at which all contestants will be finished with all three legs of the triathalon, assuming they each spend exactly their projected swimming, biking, and running times on the three parts. (Again, note that participants can bike and run simultaneously, but at most one person can be in the pool at any time.) What’s the best order for sending people out, if one wants the whole competition to be over as early as possible? More precisely, give an efficient algorithm that produces a schedule whose completion time is as small as possible.\n",
    "\n",
    "#### Solution"
   ]
  },
  {
   "cell_type": "code",
   "execution_count": 175,
   "metadata": {},
   "outputs": [
    {
     "data": {
      "text/plain": [
       "[(4, 3, 1), (3, 2, 3), (2, 3, 2)]"
      ]
     },
     "execution_count": 175,
     "metadata": {},
     "output_type": "execute_result"
    }
   ],
   "source": [
    "def triathlon(people):\n",
    "    return sorted(people, key = lambda x: x[1]+x[2])\n",
    "    \n",
    "triathlon([\n",
    "    (3,2,3),\n",
    "    (4,3,1),\n",
    "    (2,3,2)\n",
    "])"
   ]
  },
  {
   "cell_type": "markdown",
   "metadata": {},
   "source": [
    "### Exercise 7\n",
    "\n",
    "The wildly popular Spanish-language search engine El Goog needs to do a serious amount of computation every time it recompiles its index. Fortunately, the company has at its disposal a single large supercomputer, together with an essentially unlimited supply of high-end PCs.\n",
    "They’ve broken the overall computation into n distinct jobs, labeled J1, J2, . . . , Jn, which can be performed completely independently of one another. Each job consists of two stages: first it needs to be preprocessed on the supercomputer, and then it needs to be finished on one of the PCs. Let’s say that job Ji needs pi seconds of time on the supercomputer, followed by fi seconds of time on a PC.\n",
    "\n",
    "Since there are at least n PCs available on the premises, the finishing of the jobs can be performed fully in parallel—all the jobs can be processed at the same time. However, the supercomputer can only work on a single job at a time, so the system managers need to work out an order in which to feed the jobs to the supercomputer. As soon as the first job in order is done on the supercomputer, it can be handed off to a PC for finishing; at that point in time a second job can be fed to the supercomputer; when the second job is done on the supercomputer, it can proceed to a PC regardless of whether or not the first job is done (since the PCs work in parallel); and so on.\n",
    "Let’s say that a schedule is an ordering of the jobs for the supercomputer, and the completion time of the schedule is the earliest time at which all jobs will have finished processing on the PCs. This is an important quantity to minimize, since it determines how rapidly El Goog can generate a new index.\n",
    "\n",
    "Give a polynomial-time algorithm that finds a schedule with as small a completion time as possible.\n",
    "\n",
    "#### Solution"
   ]
  },
  {
   "cell_type": "code",
   "execution_count": 179,
   "metadata": {},
   "outputs": [
    {
     "data": {
      "text/plain": [
       "[(4, 4), (3, 5), (2, 5)]"
      ]
     },
     "execution_count": 179,
     "metadata": {},
     "output_type": "execute_result"
    }
   ],
   "source": [
    "# Mismo que 6\n",
    "def process(jobs):\n",
    "    return sorted(jobs, key = lambda x: x[1])\n",
    "    \n",
    "process([\n",
    "    (3,5),\n",
    "    (4,4),\n",
    "    (2,5)\n",
    "])"
   ]
  },
  {
   "cell_type": "markdown",
   "metadata": {},
   "source": [
    "### Exercise 8\n",
    "\n",
    "Suppose you are given a connected graph G, with edge costs that are all distinct. Prove that G has a unique minimum spanning tree.\n",
    "\n",
    "#### Solution\n",
    "\n",
    "Supongamos que T y T' son dos arboles de tendido mínimo distintos. Al ser distintos debe existir una arista e' en T' que no esté en T. Si agregamos la arista e' a T se debe generar un ciclo. En este caso pueden ocurrir 2 cosas:\n",
    "\n",
    "1) No hay una arista e en el ciclo con mayor peso que e', entonces e' no puede pertenecer a un arbol de tendido mínimo, entonces llegamos a un absurdo ya que T' no podría ser MST.\n",
    "\n",
    "2) Hay otra arista e en el ciclo con mayor peso que e', entonces e no puede pertenecer a un arbol de tendido mínimo, entonces llegamos a un absurdo ya que T no podría ser MST."
   ]
  },
  {
   "cell_type": "markdown",
   "metadata": {},
   "source": [
    "### Exercise 9\n",
    "\n",
    "One of the basic motivations behind the Minimum Spanning Tree Problem is the goal of designing a spanning network for a set of nodes with minimum total cost. Here we explore another type of objective: designing a spanning network for which the most expensive edge is as cheap as possible.\n",
    "\n",
    "Specifically, let G = (V , E) be a connected graph with n vertices, m edges, and positive edge costs that you may assume are all distinct. Let T = (V , E') be a spanning tree of G; we define the bottleneck edge of T to be the edge of T with the greatest cost.\n",
    "\n",
    "A spanning tree T of G is a minimum-bottleneck spanning tree if there is no spanning tree T' of G with a cheaper bottleneck edge.\n",
    "\n",
    "(a) Is every minimum-bottleneck tree of G a minimum spanning tree of G? Prove or give a counterexample.\n",
    "\n",
    "(b) Is every minimum spanning tree of G a minimum-bottleneck tree of G? Prove or give a counterexample.\n",
    "\n",
    "#### Solution\n",
    "\n",
    "(a) Falso. Si la arista máxima de G es la única forma de conectar un vértice, entonces todos los arboles van a ser \"minimum-bottleneck\".\n",
    "\n",
    "(b) Verdadero. Si hay otro arbol con menor \"bottleneck\" entonces, si agregamos la arista al MST se genera un ciclo en el cual la arista máxima no es la insertada, por lo que se llega a un absurdo (no era MST).\n"
   ]
  },
  {
   "cell_type": "markdown",
   "metadata": {},
   "source": [
    "### Exercise 10 (Final 18/02/19)\n",
    "\n",
    "Let G=(V,E) be an undirected graph with costs c_e ≥ 0 on the edges e∈E. \n",
    "Assume you are given a minimum-cost spanning tree T in G. Now assume\n",
    "that a new edge is added to G, connecting two nodes v, w ∈ V with cost c.\n",
    "\n",
    "a) Give an efficient algorithm to test if T remains the minimum-cost \n",
    "spanning tree with the new edge added to G (but not to the tree T). \n",
    "Make your algorithm run in time O(|E|). Can you do it in O(|V|) time? \n",
    "Please note any assumptions you make about what data structure is used \n",
    "to represent the tree T and the graph G.\n",
    "\n",
    "b) Suppose T is no longer the minimum-cost spanning tree. \n",
    "Give a linear-time algorithm (time O(|E|)) to update the tree T to \n",
    "the new minimum-cost spanning tree.\n",
    "\n",
    "#### Solution "
   ]
  },
  {
   "cell_type": "code",
   "execution_count": 20,
   "metadata": {},
   "outputs": [
    {
     "name": "stdout",
     "output_type": "stream",
     "text": [
      "True\n"
     ]
    }
   ],
   "source": [
    "def dfs(G, v, visited, parents):\n",
    "    for u, c in G[v].items():\n",
    "        if not u in visited:\n",
    "            visited.add(u)\n",
    "            parents[u] = v\n",
    "            dfs(G, u, visited, parents)\n",
    "    return parents\n",
    "            \n",
    "def still_mst(G, T, v, w, c):\n",
    "    parents = dfs(T, v, {v}, {v: None})\n",
    "    max_edge = 0\n",
    "    current = w\n",
    "    following = parents[current]\n",
    "    while following:\n",
    "        max_edge = max(max_edge, T[current][following])\n",
    "        current = following\n",
    "        following = parents[current]\n",
    "    return max_edge < c\n",
    "\n",
    "G = {\n",
    "    'a': {'b': 2, 'c': 1},\n",
    "    'b': {'a': 2},\n",
    "    'c': {'a': 1, 'e': 5},\n",
    "    'd': {'e': 1, 'f': 1},\n",
    "    'e': {'c': 5, 'd': 1},\n",
    "    'f': {'d': 1, 'g': 7, 'h': 3},\n",
    "    'g': {'f': 7},\n",
    "    'h': {'f': 3}\n",
    "}\n",
    "\n",
    "print(still_mst(G, G, 'a', 'g', 8))"
   ]
  },
  {
   "cell_type": "markdown",
   "metadata": {},
   "source": [
    "### Exercise 11\n",
    "\n",
    "Suppose you are given a connected graph G = (V , E), with a cost ce on each edge e. In an earlier problem, we saw that when all edge costs are distinct, G has a unique minimum spanning tree. However, G may have many minimum spanning trees when the edge costs are not all distinct. Here we formulate the question: Can Kruskal’s Algorithm be made to find all the minimum spanning trees of G?\n",
    "\n",
    "Recall that Kruskal’s Algorithm sorted the edges in order of increasing cost, then greedily processed edges one by one, adding an edge e as long as it did not form a cycle. When some edges have the same cost, the phrase “in order of increasing cost” has to be specified a little more carefully: we’ll say that an ordering of the edges is valid if the corresponding sequence of edge costs is nondecreasing. We’ll say that a valid execution of Kruskal’s Algorithm is one that begins with a valid ordering of the edges of G.\n",
    "\n",
    "For any graph G, and any minimum spanning tree T of G, is there a valid execution of Kruskal’s Algorithm on G that produces T as output? Give a proof or a counterexample.\n",
    "\n",
    "#### Solution\n",
    "\n",
    "Verdadero.\n",
    "\n",
    "**TODO: JUSTIFICAR**"
   ]
  },
  {
   "cell_type": "markdown",
   "metadata": {},
   "source": [
    "### Exercise 12\n",
    "\n",
    "Suppose you have n video streams that need to be sent, one after another, over a communication link. Stream i consists of a total of bi bits that need to be sent, at a constant rate, over a period of ti seconds. You cannot send two streams at the same time, so you need to determine a schedule for the streams: an order in which to send them. Whichever order you choose, there cannot be any delays between the end of one stream and the start of the next. Suppose your schedule starts at time 0 (and therefore ends at time  ni=1 ti, whichever order you choose). We assume that all the values bi and ti are positive integers.\n",
    "\n",
    "Now, because you’re just one user, the link does not want you taking up too much bandwidth, so it imposes the following constraint, using a fixed parameter r:\n",
    "\n",
    "> (∗) For each natural number t > 0, the total number of bits you send over the time interval from 0 to t cannot exceed rt.\n",
    "\n",
    "Note that this constraint is only imposed for time intervals that start at 0, not for time intervals that start at any other value.\n",
    "\n",
    "We say that a schedule is valid if it satisfies the constraint (∗) imposed by the link.\n",
    "\n",
    "**The Problem.**\n",
    "Given a set of n streams, each specified by its number of bits bi and its time duration ti, as well as the link parameter r, determine whether there exists a valid schedule.\n",
    "\n",
    "Example. Suppose we have n = 3 streams, with\n",
    "\n",
    ">(b1, t1) = (2000, 1), (b2, t2) = (6000, 2), (b3, t3) = (2000, 1),\n",
    "and suppose the link’s parameter is r = 5000. Then the schedule that runs the streams in the order 1, 2, 3, is valid, since the constraint (∗) is satisfied:\n",
    "\n",
    "> t = 1: the whole first stream has been sent, and 2000 < 5000 · 1 t = 2: half of the second stream has also been sent,\n",
    "> and 2000+3000<5000·2\n",
    "> Similar calculations hold for t = 3 and t = 4.\n",
    "\n",
    "(a) Consider the following claim:\n",
    "> Claim: There exists a valid schedule if and only if each stream i satisfies\n",
    "> bi ≤ rti.\n",
    "\n",
    "Decide whether you think the claim is true or false, and give a proof\n",
    "of either the claim or its negation.\n",
    "\n",
    "(b) Give an algorithm that takes a set of n streams, each specified by its number of bits bi and its time duration ti, as well as the link parameter r, and determines whether there exists a valid schedule. The running time of your algorithm should be polynomial in n."
   ]
  },
  {
   "cell_type": "code",
   "execution_count": 196,
   "metadata": {},
   "outputs": [
    {
     "data": {
      "text/plain": [
       "False"
      ]
     },
     "execution_count": 196,
     "metadata": {},
     "output_type": "execute_result"
    }
   ],
   "source": [
    "streams = [(5000, 1), (5000, 1), (6000, 1)]\n",
    "\n",
    "# Solution by sorting\n",
    "def streaming(streams, r):\n",
    "    rates = sorted(streams, key = lambda x: x[0]/x[1])\n",
    "    b_total, t_total = 0, 0\n",
    "    for b, t in rates:\n",
    "        for j in range(t):\n",
    "            b_total += b/t\n",
    "            t_total += t\n",
    "            if b_total/t_total > r: return False\n",
    "    return True\n",
    "\n",
    "streaming(streams, 5000)\n",
    "\n",
    "# Solution by slacks\n",
    "def streaming(streams, r):\n",
    "    slacks = map(lambda x: r*x[1]-x[0], streams)\n",
    "    return sum(slacks) >= 0\n",
    "\n",
    "streaming(streams, 5000)"
   ]
  },
  {
   "cell_type": "markdown",
   "metadata": {},
   "source": [
    "### Exercise 13\n",
    "\n",
    "A small business—say, a photocopying service with a single large machine—faces the following scheduling problem. Each morning they get a set of jobs from customers. They want to do the jobs on their single machine in an order that keeps their customers happiest. Customer i’s job will take ti time to complete. Given a schedule (i.e., an ordering of the jobs), let Ci denote the finishing time of job i. For example, if job j is the first to be done, we would have Cj = tj; and if job j is done right after job i, we would have Cj = Ci + tj. Each customer i also has a given weight wi that represents his or her importance to the business. The happiness of customer i is expected to be dependent on the finishing time of i’s job. So the company decides that they want to order the jobs to minimize the weighted sum of the completion times,  $\\sum_{i=1}^n$ wiCi.\n",
    "\n",
    "Design an efficient algorithm to solve this problem. That is, you are given a set of n jobs with a processing time ti and a weight wi for each job. You want to order the jobs so as to minimize the weighted sum of the completion times,  ni=1 wiCi.\n",
    "\n",
    "**Example**. Suppose there are two jobs: the first takes time t1 = 1 and has weight w1 = 10, while the second job takes time t2 = 3 and has weight w2 = 2. Then doing job 1 first would yield a weighted completion time of 10 · 1 + 2 · 4 = 18, while doing the second job first would yield the larger weighted completion time of 10 · 4 + 2 · 3 = 46.\n",
    "\n",
    "#### Solution\n",
    "\n",
    "Supongamos una solución $S_A$ y $S_{Greedy}$, para la solución greedy se debe cumplir que si $J_i$ se encuentra antes que $J_j$ entonces $\\frac{w_i}{t_i} \\geq \\frac{w_j}{t_j}$. Para el caso en el cual son consecutivos, todas los demás valores de C_i se mantendrían iguales, por lo que las sumás pesadas se podrían resumir a:\n",
    "\n",
    "$$Greedy = w_j*(C + t_j) + w_i*(C+t_j+t_i)$$\n",
    "$$Alternativo = w_i*(C + t_i) + w_j*(C+t_i+t_j)$$\n",
    "\n",
    "Entonces la diferencia será:\n",
    "\n",
    "$$Greedy - Alternativo = w_i*t_j - w_j*t_i$$\n",
    "\n",
    "Dado que $\\frac{w_i}{t_i} \\geq \\frac{w_j}{t_j}$, entonces esta diferencia va a ser positiva siempre. Entonces la solución Greedy es óptima."
   ]
  },
  {
   "cell_type": "code",
   "execution_count": 5,
   "metadata": {},
   "outputs": [
    {
     "data": {
      "text/plain": [
       "[(100, 4), (100, 1)]"
      ]
     },
     "execution_count": 5,
     "metadata": {},
     "output_type": "execute_result"
    }
   ],
   "source": [
    "def schedule_jobs(jobs):\n",
    "    return sorted(jobs, key = lambda x: x[0]/x[1])\n",
    "\n",
    "jobs = [(100,1), (100,4)]\n",
    "\n",
    "schedule_jobs(jobs)"
   ]
  },
  {
   "cell_type": "markdown",
   "metadata": {},
   "source": [
    "### Exercise 14\n",
    "\n",
    "You’re working with a group of security consultants who are helping to monitor a large computer system. There’s particular interest in keeping track of processes that are labeled “sensitive.” Each such process has a designated start time and finish time, and it runs continuously between these times; the consultants have a list of the planned start and finish times of all sensitive processes that will be run that day.\n",
    "\n",
    "As a simple first step, they’ve written a program called status_check that, when invoked, runs for a few seconds and records various pieces of logging information about all the sensitive processes running on the system at that moment. (We’ll model each invocation of status_check as lasting for only this single point in time.) What they’d like to do is to run status_check as few times as possible during the day, but enough that for each sensitive process P, status_check is invoked at least once during the execution of process P.\n",
    "\n",
    "(a) Give an efficient algorithm that, given the start and finish times of all the sensitive processes, finds as small a set of times as possi- ble at which to invoke status_check, subject to the requirement that status_check is invoked at least once during each sensitive process P.\n",
    "\n",
    "(b) While you were designing your algorithm, the security consultants were engaging in a little back-of-the-envelope reasoning. “Suppose we can find a set of k sensitive processes with the property that no two are ever running at the same time. Then clearly your algorithm will need to invoke status_check at least k times: no one invocation of status_check can handle more than one of these processes.”\n",
    "\n",
    "This is true, of course, and after some further discussion, you all begin wondering whether something stronger is true as well, a kind of converse to the above argument. Suppose that k∗ is the largest value of k such that one can find a set of k sensitive processes with no two ever running at the same time. Is it the case that there must be a set of k∗ times at which you can run status_check so that some invocation occurs during the execution of each sensitive process? (In other words, the kind of argument in the previous paragraph is really the only thing forcing you to need a lot of invocations of status_ check.) Decide whether you think this claim is true or false, and give a proof or a counterexample.\n",
    "\n",
    "#### Solution\n",
    "\n",
    "TODO: Probar A  \n",
    "TODO: B"
   ]
  },
  {
   "cell_type": "code",
   "execution_count": 26,
   "metadata": {},
   "outputs": [
    {
     "name": "stdout",
     "output_type": "stream",
     "text": [
      "[4, 8]\n"
     ]
    }
   ],
   "source": [
    "processes = [(0,4),(7,10),(1,4),(6,8),(3,5)]\n",
    "events = []\n",
    "for pid, (s,f) in enumerate(processes):\n",
    "    events.append((pid, s, 's'))\n",
    "    events.append((pid, f, 'f'))\n",
    "\n",
    "events.sort(key=lambda x: x[1])\n",
    "\n",
    "checked = set()\n",
    "checks = []\n",
    "previous = set()\n",
    "for event in events:\n",
    "    pid, time, t = event\n",
    "    if t == 'f' and not pid in checked:\n",
    "        checked = checked.union(previous)\n",
    "        checks.append(time)\n",
    "        previous = set()\n",
    "    elif t == 's':\n",
    "        previous.add(pid)\n",
    "        \n",
    "# b TODO"
   ]
  },
  {
   "cell_type": "markdown",
   "metadata": {},
   "source": [
    "### Exercise 15\n",
    "\n",
    "The manager of a large student union on campus comes to you with the following problem. She’s in charge of a group of n students, each of whom is scheduled to work one shift during the week. There are different jobs associated with these shifts (tending the main desk, helping with package delivery, rebooting cranky information kiosks, etc.), but we can view each shift as a single contiguous interval of time. There can be multiple shifts going on at once.\n",
    "\n",
    "She’s trying to choose a subset of these n students to form a super- vising committee that she can meet with once a week. She considers such a committee to be complete if, for every student not on the committee, that student’s shift overlaps (at least partially) the shift of some student who is on the committee. In this way, each student’s performance can be observed by at least one person who’s serving on the committee.\n",
    "\n",
    "Give an efficient algorithm that takes the schedule of n shifts and produces a complete supervising committee containing as few students as possible.\n",
    "\n",
    "Example. Suppose n = 3, and the shifts are\n",
    "\n",
    "- Monday 4 P.M.–Monday 8 P.M., \n",
    "- Monday 6 P.M.–Monday 10 P.M., \n",
    "- Monday 9 P.M.–Monday 11 P.M..\n",
    "\n",
    "Then the smallest complete supervising committee would consist of just the second student, since the second shift overlaps both the first and the third.\n",
    "\n",
    "#### Solution\n",
    "\n",
    "Obtener el intervalo que termina primero, incluir en la solución el intervalo con el que tiene intersección y que termina más tarde. Marcar como vistos todos los intervalos con los que tiene intersección el intervalo seleccionado. Tomar el intervalo que termina primero de los no marcados y hacer lo mismo que antes."
   ]
  },
  {
   "cell_type": "markdown",
   "metadata": {},
   "source": [
    "### Exercise 16\n",
    "\n",
    "Some security consultants working in the financial domain are cur- rently advising a client who is investigating a potential money-laundering scheme. The investigation thus far has indicated that n suspicious trans- actions took place in recent days, each involving money transferred into a single account. Unfortunately, the sketchy nature of the evidence to date means that they don’t know the identity of the account, the amounts of the transactions, or the exact times at which the transactions took place. What they do have is an approximate time-stamp for each transaction; the evidence indicates that transaction i took place at time ti ± ei, for some “margin of error” ei. (In other words, it took place sometime between ti − ei and ti + ei.) Note that different transactions may have different margins of error.\n",
    "\n",
    "In the last day or so, they’ve come across a bank account that (for other reasons we don’t need to go into here) they suspect might be the one involved in the crime. There are n recent events involving the account, which took place at times x1, x2, . . . , xn. To see whether it’s plausible that this really is the account they’re looking for, they’re wondering whether it’s possible to associate each of the account’s n events with a distinct one of the n suspicious transactions in such a way that, if the account event at time xi is associated with the suspicious transaction that occurred approximately at time tj, then |tj − xi| ≤ ej. (In other words, they want to know if the activity on the account lines up with the suspicious transactions to within the margin of error; the tricky part here is that they don’t know which account event to associate with which suspicious transaction.)\n",
    "\n",
    "Give an efficient algorithm that takes the given data and decides whether such an association exists. If possible, you should make the running time be at most O(n2).\n",
    "\n",
    "#### Solution\n",
    "\n",
    "Iterar eventos en orden, por cada uno buscar el intervalo que termina antes que lo contenga y matchearlo, si no hay entonces no existe solución."
   ]
  },
  {
   "cell_type": "markdown",
   "metadata": {},
   "source": [
    "### Exercise 17\n",
    "\n",
    "Consider the following variation on the Interval Scheduling Problem. You have a processor that can operate 24 hours a day, every day. People submit requests to run daily jobs on the processor. Each such job comes with a start time and an end time; if the job is accepted to run on the processor, it must run continuously, every day, for the period between its start and end times. (Note that certain jobs can begin before midnight and end after midnight; this makes for a type of situation different from what we saw in the Interval Scheduling Problem.)\n",
    "\n",
    "Given a list of n such jobs, your goal is to accept as many jobs as possible (regardless of their length), subject to the constraint that the processor can run at most one job at any given point in time. Provide an algorithm to do this with a running time that is polynomial in n. You may assume for simplicity that no two jobs have the same start or end times.\n",
    "\n",
    "Example. Consider the following four jobs, specified by (start-time, end- time) pairs.\n",
    "- (6 P.M., 6 A.M.), \n",
    "- (9 P.M., 4 A.M.), \n",
    "- (3 A.M., 2 P.M.), \n",
    "- (1 P.M., 7 P.M.).\n",
    "\n",
    "The optimal solution would be to pick the two jobs (9 P.M., 4 A.M.) and (1 P.M., 7 P.M.), which can be scheduled without overlapping.\n",
    "\n",
    "#### Solution\n",
    "\n",
    "Para cada uno de los intervalos suponer que la solución lo incluye y calcular la solución. Y luego ver cual es la mejor."
   ]
  },
  {
   "cell_type": "markdown",
   "metadata": {},
   "source": [
    "### Exercise 18\n",
    "\n",
    "Your friends are planning an expedition to a small town deep in the Canadian north next winter break. They’ve researched all the travel options and have drawn up a directed graph whose nodes represent intermediate destinations and edges represent the roads between them.\n",
    "\n",
    "In the course of this, they’ve also learned that extreme weather causes roads in this part of the world to become quite slow in the winter and may cause large travel delays. They’ve found an excellent travel Web site that can accurately predict how fast they’ll be able to travel along the roads; however, the speed of travel depends on the time of year. More precisely, the Web site answers queries of the following form: given an edge e = (v, w) connecting two sites v and w, and given a proposed starting time t from location v, the site will return a value fe(t), the predicted arrival time at w. The Web site guarantees that fe(t) ≥ t for all edges e and all times t (you can’t travel backward in time), and that fe(t) is a monotone increasing function of t (that is, you do not arrive earlier by starting later). Other than that, the functions fe(t) may be arbitrary. For example, in areas where the travel time does not vary with the season, we would have fe(t) = t + le, where le is the time needed to travel from the beginning to the end of edge e.\n",
    "\n",
    "Your friends want to use the Web site to determine the fastest way to travel through the directed graph from their starting point to their intended destination. (You should assume that they start at time 0, and that all predictions made by the Web site are completely correct.) Give a polynomial-time algorithm to do this, where we treat a single query to the Web site (based on a specific edge e and a time t) as taking a single computational step.\n",
    "\n",
    "#### Solution\n",
    "\n",
    "**Variación de Dijkstra**\n",
    "\n",
    "```\n",
    "def travel(G, s, d):\n",
    "    q = heap()\n",
    "    distances = {}\n",
    "    parents = {}\n",
    "    time[s] = 0\n",
    "    parent[s] = None\n",
    "    q.enqueue(s,0)\n",
    "    while not q.empty():\n",
    "        u = q.dequeue()\n",
    "        for v in u.adjacents():\n",
    "            if f(u,v,time[u]) < time[v]:\n",
    "                time[v] = f(u,v,time[u]) \n",
    "                parent[v] = u\n",
    "                q.enqueue(v, time[v])\n",
    "\n",
    "```"
   ]
  },
  {
   "cell_type": "markdown",
   "metadata": {},
   "source": [
    "### Exercise 19\n",
    "\n",
    "A group of network designers at the communications company CluNet find themselves facing the following problem. They have a connected graph G = (V , E), in which the nodes represent sites that want to com- municate. Each edge e is a communication link, with a given available bandwidth be.\n",
    "For each pair of nodes u, v ∈ V, they want to select a single u-v path P on which this pair will communicate. The bottleneck rate b(P) of this path P is the minimum bandwidth of any edge it contains; that is, b(P) = mine∈P be. The best achievable bottleneck rate for the pair u, v in G is simply the maximum, over all u-v paths P in G, of the value b(P).\n",
    "\n",
    "It’s getting to be very complicated to keep track of a path for each pair of nodes, and so one of the network designers makes a bold suggestion: Maybe one can find a spanning tree T of G so that for every pair of nodes u, v, the unique u-v path in the tree actually attains the best achievable bottleneck rate for u, v in G. (In other words, even if you could choose any u-v path in the whole graph, you couldn’t do better than the u-v path in T.)\n",
    "This idea is roundly heckled in the offices of CluNet for a few days, and there’s a natural reason for the skepticism: each pair of nodes might want a very different-looking path to maximize its bottleneck rate; why should there be a single tree that simultaneously makes everybody happy? But after some failed attempts to rule out the idea, people begin to suspect it could be possible.\n",
    "\n",
    "Show that such a tree exists, and give an efficient algorithm to find one. That is, give an algorithm constructing a spanning tree T in which, for each u, v ∈ V, the bottleneck rate of the u-v path in T is equal to the best achievable bottleneck rate for the pair u, v in G.\n",
    "\n",
    "#### Solution\n",
    "\n",
    "Hacer Prim o Kruskal tomando máximos. Nos vamos asegurando que los b_w son lo más grandes posibles. Esto es equivalente a encontrar el MST del grafo con las aristas negativas."
   ]
  },
  {
   "cell_type": "markdown",
   "metadata": {},
   "source": [
    "### Exercise 20\n",
    "\n",
    "Every September, somewhere in a far-away mountainous part of the world, the county highway crews get together and decide which roads to keep clear through the coming winter. There are n towns in this county, and the road system can be viewed as a (connected) graph G = (V , E) on this set of towns, each edge representing a road joining two of them. In the winter, people are high enough up in the mountains that they stop worrying about the length of roads and start worrying about their altitude—this is really what determines how difficult the trip will be.\n",
    "\n",
    "So each road—each edge e in the graph—is annotated with a number ae that gives the altitude of the highest point on the road. We’ll assume that no two edges have exactly the same altitude value ae. The height of a path P in the graph is then the maximum of ae over all edges e on P. Finally, a path between towns i and j is declared to be winter-optimal if it achieves the minimum possible height over all paths from i to j.\n",
    "\n",
    "The highway crews are going to select a set E′ ⊆ E of the roads to keep clear through the winter; the rest will be left unmaintained and kept off limits to travelers. They all agree that whichever subset of roads E′ they decide to keep clear, it should have the property that (V , E′) is a connected subgraph; and more strongly, for every pair of towns i and j, the height of the winter-optimal path in (V , E′) should be no greater than it is in the full graph G = (V , E). We’ll say that (V , E′) is a minimum-altitude connected subgraph if it has this property.\n",
    "Given that they’re going to maintain this key property, however, they otherwise want to keep as few roads clear as possible. One year, they hit upon the following conjecture:\n",
    "\n",
    "> The minimum spanning tree of G, with respect to the edge weights ae, is a minimum-altitude connected subgraph.\n",
    "\n",
    "(In an earlier problem, we claimed that there is a unique minimum span- ning tree when the edge weights are distinct. Thus, thanks to the assump- tion that all ae are distinct, it is okay for us to speak of the minimum spanning tree.)\n",
    "\n",
    "Initially, this conjecture is somewhat counterintuitive, since the min- imum spanning tree is trying to minimize the sum of the values ae, while the goal of minimizing altitude seems to be asking for a fairly different thing. But lacking an argument to the contrary, they begin considering an even bolder second conjecture:\n",
    "\n",
    "> A subgraph (V , E′) is a minimum-altitude connected subgraph if and only if it contains the edges of the minimum spanning tree.\n",
    "\n",
    "Note that this second conjecture would immediately imply the first one, since a minimum spanning tree contains its own edges.\n",
    "So here’s the question.\n",
    "\n",
    "(a) Is the first conjecture true, for all choices of G and distinct altitudes ae? Give a proof or a counterexample with explanation.\n",
    "\n",
    "(b) Is the second conjecture true, for all choices of G and distinct altitudes ae? Give a proof or a counterexample with explanation.\n",
    "\n",
    "#### Solution\n",
    "\n",
    "TODO"
   ]
  },
  {
   "cell_type": "markdown",
   "metadata": {},
   "source": [
    "### Exercise 21\n",
    "\n",
    "Let us say that a graph G=(V,E) is a near-tree if it is connected and has at most n + 8 edges, where n = |V|. Give an algorithm with running time O(n) that takes a near-tree G with costs on its edges, and returns a minimum spanning tree of G. You may assume that all the edge costs are distinct.\n",
    "\n",
    "#### Solution\n",
    "\n",
    "BFS hasta que encontramos un ciclo, cuando encontramos el ciclo, eliminamos la arista más pesada. Esto lo repetimos 9 veces, hasta que queden n-1 aristas. De esta forma el grafo cumpliría con las siguientes 2 condiciones:\n",
    "\n",
    "- |V| - 1 aristas\n",
    "- Es conexo\n",
    "\n",
    "Las cuales implican que:\n",
    "\n",
    "- No posee ciclos\n",
    "\n",
    "Y por lo tanto sería un arbol, al mantener los mismos |V| sería de tendido y al eliminar siempre la arista de mayor peso de cada ciclo sería un arbol de tendido mínimo."
   ]
  },
  {
   "attachments": {},
   "cell_type": "markdown",
   "metadata": {},
   "source": [
    "### Exercise 22\n",
    "\n",
    "Consider the Minimum Spanning Tree Problem on an undirected graph G=(V,E), with a cost ce ≥0 on each edge, where the costs may not all be different. If the costs are not all distinct, there can in general be many distinct minimum-cost solutions. Suppose we are given a spanning tree T ⊆ E with the guarantee that for every e ∈ T, e belongs to some minimum-cost spanning tree in G. Can we conclude that T itself must be a minimum-cost spanning tree in G? Give a proof or a counterexample with explanation.\n",
    "\n",
    "#### Solution\n",
    "\n",
    "Contraejemplo:\n",
    "\n",
    "![4_22.png](4_22.png)"
   ]
  },
  {
   "cell_type": "markdown",
   "metadata": {},
   "source": [
    "### Exercise 23\n",
    "\n",
    "Recall the problem of computing a minimum-cost arborescence in a directed graph G = (V , E), with a cost ce ≥ 0 on each edge. Here we will consider the case in which G is a directed acyclic graph—that is, it contains no directed cycles.\n",
    "\n",
    "As in general directed graphs, there can be many distinct minimum- cost solutions. Suppose we are given a directed acyclic graph G = (V , E), and an arborescence A ⊆ E with the guarantee that for every e ∈ A, e belongs to some minimum-cost arborescence in G. Can we conclude that A itself must be a minimum-cost arborescence in G? Give a proof or a counterexample with explanation."
   ]
  },
  {
   "cell_type": "code",
   "execution_count": null,
   "metadata": {},
   "outputs": [],
   "source": []
  }
 ],
 "metadata": {
  "kernelspec": {
   "display_name": "Python 3",
   "language": "python",
   "name": "python3"
  },
  "language_info": {
   "codemirror_mode": {
    "name": "ipython",
    "version": 3
   },
   "file_extension": ".py",
   "mimetype": "text/x-python",
   "name": "python",
   "nbconvert_exporter": "python",
   "pygments_lexer": "ipython3",
   "version": "3.6.0"
  }
 },
 "nbformat": 4,
 "nbformat_minor": 2
}
