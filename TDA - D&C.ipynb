{
 "cells": [
  {
   "attachments": {},
   "cell_type": "markdown",
   "metadata": {},
   "source": [
    "# Teoría de Algoritmos - D&C\n",
    "\n",
    "## Tardos 5\n",
    "\n",
    "### Exercise 1\n",
    "\n",
    "You are interested in analyzing some hard to obtain data from two separate databases. Each database contains n numerical values—so there are 2n values total—and you may assume that no two values are the same. You’d like to determine the median of this set of 2n values, which we will define here to be the nth smallest value.\n",
    "However, the only way you can access these values is through queries to the databases. In a single query, you can specify a value k to one of the two databases, and the chosen database will return the kth smallest value that it contains. Since queries are expensive, you would like to compute the median using as few queries as possible.\n",
    "Give an algorithm that finds the median value using at most O(log n) queries.\n",
    "\n",
    "#### Solution\n",
    "\n",
    "![5_1.png](5_1.png)"
   ]
  },
  {
   "cell_type": "code",
   "execution_count": 72,
   "metadata": {},
   "outputs": [
    {
     "name": "stdout",
     "output_type": "stream",
     "text": [
      "4\n"
     ]
    }
   ],
   "source": [
    "# TODO: Revisar casos\n",
    "\n",
    "def median(X,Y):\n",
    "    n = len(X)\n",
    "    k = int(round(n/2))\n",
    "    if n == 1: return min(X[0],Y[0])\n",
    "    return median(X[n//2:],Y[:n//2]) if X[k] < Y[k] else median(X[:n//2], Y[n//2:])\n",
    "\n",
    "# median(0,1,3,4,6,7,8,9)\n",
    "X = [0,1,6,8]\n",
    "Y = [3,4,7,9]\n",
    "print(median(X,Y))"
   ]
  },
  {
   "cell_type": "markdown",
   "metadata": {},
   "source": [
    "### Exercise 2\n",
    "\n",
    "Recall the problem of finding the number of inversions. As in the text, we are given a sequence of n numbers a1, . . . , an, which we assume are all distinct, and we define an inversion to be a pair i < j such that ai > aj.\n",
    "We motivated the problem of counting inversions as a good measure of how different two orderings are. However, one might feel that this measure is too sensitive. Let’s call a pair a significant inversion if i < j and ai > 2aj. Give an O(n log n) algorithm to count the number of significant inversions between two orderings."
   ]
  },
  {
   "cell_type": "code",
   "execution_count": 117,
   "metadata": {},
   "outputs": [],
   "source": [
    "def merge(S1, S2):\n",
    "    print(S1,S2)\n",
    "    n1, n2 = len(S1), len(S2)\n",
    "    i1, i2 = 0, 0\n",
    "    r = []\n",
    "    while i1<n1 or i2<n2:\n",
    "        s = min(S1[i1],S2[i2]) if i1 < n1 and i2 < n2 else S1[i1] if i1 < n1 else S2[i2]\n",
    "        r.append(s)\n",
    "        i1 += 1 if i1 < n1 and s == S1[i1] else 0\n",
    "        i2 += 1 if i2 < n2 and s == S2[i2] else 0\n",
    "    return r\n",
    "\n",
    "def count(S1, S2):\n",
    "    n1, n2 = len(S1), len(S2)\n",
    "    i1, i2 = n1-1, n2-1\n",
    "    inversions = 0\n",
    "    while i1>=0 and i2>=0:\n",
    "        if S1[i1] <= 2*S2[i2]: \n",
    "            i2 -= 1\n",
    "        elif S1[i1] > 2*S2[i2]:\n",
    "            inversions += i2 + 1\n",
    "            i1 -= 1\n",
    "    return inversions\n",
    "\n",
    "def significant_inversions(S):\n",
    "    if len(S) <= 1:\n",
    "        return 0, S\n",
    "    k = len(S)/2\n",
    "    inv1, S1 = significant_inversions(S[:k])\n",
    "    inv2, S2 = significant_inversions(S[k:])\n",
    "    total = inv1 + inv2 + count(S1, S2)\n",
    "    return total, merge(S1,S2)\n",
    "\n"
   ]
  },
  {
   "cell_type": "markdown",
   "metadata": {},
   "source": [
    "### Exercise 3\n",
    "\n",
    "Suppose you’re consulting for a bank that’s concerned about fraud detection, and they come to you with the following problem. They have a collection of n bank cards that they’ve confiscated, suspecting them of being used in fraud. Each bank card is a small plastic object, contain- ing a magnetic stripe with some encrypted data, and it corresponds to a unique account in the bank. Each account can have many bank cards corresponding to it, and we’ll say that two bank cards are equivalent if they correspond to the same account.\n",
    "It’s very difficult to read the account number off a bank card directly, but the bank has a high-tech “equivalence tester” that takes two bank cards and, after performing some computations, determines whether they are equivalent.\n",
    "Their question is the following: among the collection of n cards, is there a set of more than n/2 of them that are all equivalent to one another? Assume that the only feasible operations you can do with the cards are to pick two of them and plug them in to the equivalence tester. Show how to decide the answer to their question with only O(n log n) invocations of the equivalence tester.\n",
    "\n",
    "#### Solution\n",
    "\n",
    "T(n) = 2\\*T(n/2) + O(n)"
   ]
  },
  {
   "cell_type": "code",
   "execution_count": 37,
   "metadata": {},
   "outputs": [],
   "source": [
    "def majority(S):\n",
    "    n = len(S)\n",
    "    if n <= 2: return S[0] if S[0] == S[-1] else None\n",
    "    S1, S2 = S[:n//2], S[n//2:]\n",
    "    c1, c2 = majority(S1), majority(S2)\n",
    "    return c1 if S.count(c1) > n//2 else \\\n",
    "            c2 if S.count(c2) > n//2 else None"
   ]
  },
  {
   "attachments": {},
   "cell_type": "markdown",
   "metadata": {},
   "source": [
    "### Exercise 4\n",
    "\n",
    "You’ve been working with some physicists who need to study, as part of their experimental design, the interactions among large numbers of very small charged particles. Basically, their setup works as follows. They have an inert lattice structure, and they use this for placing charged particles at regular spacing along a straight line. Thus we can model their structure as consisting of the points {1, 2, 3, . . . , n} on the real line; and at each of these points j, they have a particle with charge qj. (Each charge can be either positive or negative.)\n",
    "They want to study the total force on each particle, by measuring it and then comparing it to a computational prediction. This computational part is where they need your help. The total net force on particle j, by Coulomb’s Law, is equal to\n",
    "\n",
    "![5_4_coulomb.png](5_4_coulomb.png)\n",
    "\n",
    "They’ve written the following simple program to compute Fj for all j:\n",
    "\n",
    "![5_4_program.png](5_4_program.png)\n",
    "\n",
    "It’s not hard to analyze the running time of this program: each invocation of the inner loop, over i, takes O(n) time, and this inner loop is invoked O(n) times total, so the overall running time is O(n2).\n",
    "The trouble is, for the large values of n they’re working with, the pro- gram takes several minutes to run. On the other hand, their experimental setup is optimized so that they can throw down n particles, perform the measurements, and be ready to handle n more particles within a few sec- onds. So they’d really like it if there were a way to compute all the forces Fj much more quickly, so as to keep up with the rate of the experiment.\n",
    "Help them out by designing an algorithm that computes all the forces Fj in O(n log n) time.\n",
    "\n",
    "#### Solution\n",
    "\n",
    "TODO: Convolución"
   ]
  },
  {
   "cell_type": "markdown",
   "metadata": {},
   "source": [
    "### Exercise 5\n",
    "\n",
    "Hidden surface removal is a problem in computer graphics that scarcely needs an introduction: when Woody is standing in front of Buzz, you should be able to see Woody but not Buzz; when Buzz is standing in front of Woody, . . . well, you get the idea.\n",
    "The magic of hidden surface removal is that you can often compute things faster than your intuition suggests. Here’s a clean geometric ex- ample to illustrate a basic speed-up that can be achieved. You are given n nonvertical lines in the plane, labeled L1, . . . , Ln, with the ith line specified by the equation y = aix + bi. We will make the assumption that no three of the lines all meet at a single point. We say line Li is uppermost at a given x-coordinate x0 if its y-coordinate at x0 is greater than the y-coordinates ofalltheotherlinesatx0:aix0+bi>ajx0+bj forallj̸=i.WesaylineLi is visible if there is some x-coordinate at which it is uppermost—intuitively, some portion of it can be seen if you look down from “y = ∞.”\n",
    "Give an algorithm that takes n lines as input and in O(n log n) time returns all of the ones that are visible. Figure 5.10 gives an example.\n",
    "\n",
    "#### Solution\n",
    "\n",
    "TODO"
   ]
  },
  {
   "attachments": {},
   "cell_type": "markdown",
   "metadata": {},
   "source": [
    "### Exercise 6\n",
    "\n",
    "Consider an n-node complete binary tree T, where n = 2d − 1 for some d. Each node v of T is labeled with a real number xv. You may assume that the real numbers labeling the nodes are all distinct. A node v of T is a local minimum if the label xv is less than the label xw for all nodes w that are joined to v by an edge.\n",
    "You are given such a complete binary tree T, but the labeling is only specified in the following implicit way: for each node v, you can determine the value xv by probing the node v. Show how to find a local minimum of T using only O(log n) probes to the nodes of T.\n",
    "\n",
    "#### Solution\n",
    "\n",
    "![5_6.png](5_6.png)"
   ]
  }
 ],
 "metadata": {
  "kernelspec": {
   "display_name": "Python 2",
   "language": "python",
   "name": "python2"
  },
  "language_info": {
   "codemirror_mode": {
    "name": "ipython",
    "version": 2
   },
   "file_extension": ".py",
   "mimetype": "text/x-python",
   "name": "python",
   "nbconvert_exporter": "python",
   "pygments_lexer": "ipython2",
   "version": "2.7.15"
  }
 },
 "nbformat": 4,
 "nbformat_minor": 2
}
